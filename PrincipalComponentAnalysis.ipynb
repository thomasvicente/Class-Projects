{
  "nbformat": 4,
  "nbformat_minor": 0,
  "metadata": {
    "colab": {
      "provenance": [],
      "authorship_tag": "ABX9TyMG1W1iztwbZOg0/ragMaLR",
      "include_colab_link": true
    },
    "kernelspec": {
      "name": "python3",
      "display_name": "Python 3"
    },
    "language_info": {
      "name": "python"
    }
  },
  "cells": [
    {
      "cell_type": "markdown",
      "metadata": {
        "id": "view-in-github",
        "colab_type": "text"
      },
      "source": [
        "<a href=\"https://colab.research.google.com/github/thomasvicente/Class-Projects/blob/main/PrincipalComponentAnalysis.ipynb\" target=\"_parent\"><img src=\"https://colab.research.google.com/assets/colab-badge.svg\" alt=\"Open In Colab\"/></a>"
      ]
    },
    {
      "cell_type": "code",
      "source": [
        "#Written By: Thomas Vicente\n",
        "#The following programs are for PS9, written in google colab, please separate the programs to run"
      ],
      "metadata": {
        "id": "Nu0aNEiU6SkK"
      },
      "execution_count": null,
      "outputs": []
    },
    {
      "cell_type": "code",
      "execution_count": 8,
      "metadata": {
        "colab": {
          "base_uri": "https://localhost:8080/"
        },
        "id": "3wme_uchwagz",
        "outputId": "dca01eb8-fec5-412c-a5b2-ed4215bd2bed"
      },
      "outputs": [
        {
          "output_type": "stream",
          "name": "stdout",
          "text": [
            "eigenvalues:  [-0.37228132  5.37228132]\n",
            "eigenvectors:  [[-0.82456484 -0.41597356]\n",
            " [ 0.56576746 -0.90937671]]\n",
            "Dot product: -0.17149858514250893\n"
          ]
        }
      ],
      "source": [
        "#problem 2\n",
        "import numpy as np\n",
        "\n",
        "A = np.array([[1,2],[3,4]])\n",
        "\n",
        "values, vectors = np.linalg.eig(A)\n",
        "\n",
        "print('eigenvalues: ',values)\n",
        "print('eigenvectors: ', vectors)\n",
        "\n",
        "eigenvector1 = vectors[:, 0]\n",
        "eigenvector2 = vectors[:, 1]\n",
        "dot_product = np.dot(eigenvector1, eigenvector2)\n",
        "print(\"Dot product:\", dot_product)"
      ]
    },
    {
      "cell_type": "code",
      "source": [
        "#3a\n",
        "C = np.array([[5, -1, 2],\n",
        "              [-1, 4, 0],\n",
        "              [2, 0, 10]])\n",
        "\n",
        "eigenvalues, eigenvectors = np.linalg.eig(C)\n",
        "\n",
        "sorted_indices = np.argsort(eigenvalues)[::-1]\n",
        "sorted_eigenvalues = eigenvalues[sorted_indices]\n",
        "sorted_eigenvectors = eigenvectors[:, sorted_indices]\n",
        "\n",
        "std_deviations = np.sqrt(sorted_eigenvalues)\n",
        "\n",
        "print('eigenvectors and values:','\\n',sorted_eigenvectors, '\\n\\n', sorted_eigenvalues,'\\n')\n",
        "print(\"Standard deviations along the principal axes: \\n\", std_deviations)"
      ],
      "metadata": {
        "colab": {
          "base_uri": "https://localhost:8080/"
        },
        "id": "Q5lwkkTI09jR",
        "outputId": "38f6d00b-1f11-40ae-90d0-0cefd7eac9c0"
      },
      "execution_count": 24,
      "outputs": [
        {
          "output_type": "stream",
          "name": "stdout",
          "text": [
            "eigenvectors and values: \n",
            " [[-0.33754874  0.70741238  0.62098999]\n",
            " [ 0.05024382 -0.64522889  0.76233538]\n",
            " [-0.93996617 -0.28852626 -0.1822531 ]] \n",
            "\n",
            " [10.71821466  5.09637431  3.18541103] \n",
            "\n",
            "Standard deviations along the principal axes: \n",
            " [3.27386845 2.25751507 1.78477198]\n"
          ]
        }
      ]
    },
    {
      "cell_type": "code",
      "source": [
        "#3b\n",
        "C = np.array([[5, -1, 2],\n",
        "              [-1, 4, 0],\n",
        "              [2, 0, 10]])\n",
        "\n",
        "eigenvalues, eigenvectors = np.linalg.eig(C)\n",
        "\n",
        "A = eigenvectors\n",
        "v = np.array([1, 2, 3]).reshape(-1, 1)\n",
        "A_inv = np.linalg.inv(A)\n",
        "a = np.dot(A_inv, v)\n",
        "print('matrix a: \\n',A)\n",
        "print(\"Coefficients a1, a2, a3:\", a)"
      ],
      "metadata": {
        "colab": {
          "base_uri": "https://localhost:8080/"
        },
        "id": "jadFrrP94AO2",
        "outputId": "ecfbeb85-88b9-4287-ec4c-c46bef5e278d"
      },
      "execution_count": 32,
      "outputs": [
        {
          "output_type": "stream",
          "name": "stdout",
          "text": [
            "matrix a: \n",
            " [[-0.33754874  0.70741238  0.62098999]\n",
            " [ 0.05024382 -0.64522889  0.76233538]\n",
            " [-0.93996617 -0.28852626 -0.1822531 ]]\n",
            "Coefficients a1, a2, a3: [[-3.05695963]\n",
            " [-1.44862417]\n",
            " [ 1.59890145]]\n"
          ]
        }
      ]
    }
  ]
}