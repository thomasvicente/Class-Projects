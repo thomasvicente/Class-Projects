{
  "nbformat": 4,
  "nbformat_minor": 0,
  "metadata": {
    "colab": {
      "provenance": [],
      "authorship_tag": "ABX9TyOJ+CWurAwYtG3cIe4IoqWD",
      "include_colab_link": true
    },
    "kernelspec": {
      "name": "python3",
      "display_name": "Python 3"
    },
    "language_info": {
      "name": "python"
    }
  },
  "cells": [
    {
      "cell_type": "markdown",
      "metadata": {
        "id": "view-in-github",
        "colab_type": "text"
      },
      "source": [
        "<a href=\"https://colab.research.google.com/github/thomasvicente/Class-Projects/blob/main/randomness_ps1_2.ipynb\" target=\"_parent\"><img src=\"https://colab.research.google.com/assets/colab-badge.svg\" alt=\"Open In Colab\"/></a>"
      ]
    },
    {
      "cell_type": "code",
      "execution_count": 1,
      "metadata": {
        "colab": {
          "base_uri": "https://localhost:8080/"
        },
        "id": "pCQJRgEuFLlU",
        "outputId": "33538533-2696-4531-d0f2-e942dd83e609"
      },
      "outputs": [
        {
          "output_type": "stream",
          "name": "stdout",
          "text": [
            "Probability of a random sequence of five die rolls being serrated:  0.08618\n"
          ]
        }
      ],
      "source": [
        "import random\n",
        "\n",
        "def is_serrated(sequence):\n",
        "    # Function to check if the sequence is serrated\n",
        "    sign = 1 # Initialize sign\n",
        "    for i in range(1, len(sequence)):\n",
        "        if sequence[i] == sequence[i-1]: # Check if two consecutive elements are equal\n",
        "            return False\n",
        "        if (sequence[i] - sequence[i-1]) * sign < 0: # Check if the signs of the differences between consecutive terms alternate\n",
        "            return False\n",
        "        sign = -sign # Change the sign\n",
        "    return True\n",
        "\n",
        "trials = 10**6 # Number of trials\n",
        "serrated_count = 0 # Number of serrated sequences\n",
        "for _ in range(trials):\n",
        "    sequence = [random.randint(1, 6) for _ in range(5)] # Generate a random sequence of five die rolls\n",
        "    if is_serrated(sequence):\n",
        "        serrated_count += 1\n",
        "\n",
        "# Calculate and print the probability\n",
        "probability = serrated_count/trials\n",
        "print(\"Probability of a random sequence of five die rolls being serrated: \", probability)"
      ]
    }
  ]
}